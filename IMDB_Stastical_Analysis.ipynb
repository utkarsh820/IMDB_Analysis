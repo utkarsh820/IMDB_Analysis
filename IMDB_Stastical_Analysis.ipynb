{
  "cells": [
    {
      "cell_type": "markdown",
      "metadata": {
        "id": "project_title"
      },
      "source": [
        "# IMDb Statistical Analysis Project\n",
        "\n",
        "*An exploratory data analysis of IMDb movie data to uncover trends and patterns in cinema*"
      ]
    },
    {
      "cell_type": "markdown",
      "metadata": {
        "id": "project_introduction"
      },
      "source": [
        "## Introduction\n",
        "\n",
        "This notebook presents a statistical analysis of IMDb movie data, exploring the relationships between various factors such as ratings, box office performance, director influence, and temporal trends across different decades. The goal is to unravel the mysteries behind what makes certain films successful, both critically and commercially.\n",
        "\n",
        "### Research Questions\n",
        "\n",
        "1. How have box office earnings evolved over different decades?\n",
        "2. Which directors consistently produce highly-rated films?\n",
        "3. What correlations exist between runtime, ratings, box office performance, and critic scores?\n",
        "4. Can we identify statistically significant trends in the film industry over time?\n",
        "\n",
        "### Dataset Overview\n",
        "\n",
        "We're using a dataset of 1000 top-rated movies from IMDb, which includes information such as movie titles, release years, ratings, box office earnings, runtime, directors, and starring actors. This dataset provides a comprehensive view of critically acclaimed cinema throughout history."
      ]
    },
    {
      "cell_type": "markdown",
      "metadata": {
        "id": "0c0lHwTerfwF"
      },
      "source": [
        "# Required Libraries for Analysis"
      ]
    },
    {
      "cell_type": "code",
      "execution_count": 20,
      "metadata": {
        "id": "05DXzrW5rmbd"
      },
      "outputs": [],
      "source": [
        "import numpy as np\n",
        "import pandas as pd\n",
        "import scipy.stats as st\n",
        "from  sklearn.preprocessing import StandardScaler\n",
        "import matplotlib.pyplot as plt\n",
        "import seaborn as sns\n",
        "import math as m"
      ]
    },
    {
      "cell_type": "markdown",
      "metadata": {
        "id": "data_dictionary"
      },
      "source": [
        "## Data Dictionary\n",
        "\n",
        "Before diving into the analysis, let's understand the variables in our dataset:\n",
        "\n",
        "| Variable | Description |\n",
        "|----------|-------------|\n",
        "| Poster_Link | URL to the movie poster image |\n",
        "| Series_Title | Title of the movie |\n",
        "| Released_Year | Year the movie was released |\n",
        "| Certificate | Movie rating certificate (e.g., U, A, UA) |\n",
        "| Runtime | Duration of the movie in minutes |\n",
        "| Genre | Categories the movie belongs to |\n",
        "| IMDB_Rating | Rating of the movie on IMDb (scale: 1-10) |\n",
        "| Overview | Brief summary of the movie |\n",
        "| Meta_score | Score assigned by metacritic critics (scale: 0-100) |\n",
        "| Director | Director of the movie |\n",
        "| Star1, Star2, Star3, Star4 | Main actors/actresses in the movie |\n",
        "| No_of_Votes | Number of votes received on IMDb |\n",
        "| Gross | Box office earnings in dollars |\n",
        "\n",
        "For our analysis, we'll focus primarily on the following variables: Director, IMDB_Rating, Released_Year, Meta_score, No_of_Votes, Runtime, and Gross."
      ]
    },
    {
      "cell_type": "markdown",
      "metadata": {
        "id": "bq99m4b0rDut"
      },
      "source": [
        "## Data Exploration\n",
        "\n",
        "Let's load and examine the dataset to understand its structure and contents."
      ]
    },
    {
      "cell_type": "code",
      "execution_count": 21,
      "metadata": {
        "colab": {
          "base_uri": "https://localhost:8080/",
          "height": 677
        },
        "id": "WzdoAkOrqW2-",
        "outputId": "36d48608-870d-4f3e-d2ee-c2dfbed9a91f"
      },
      "outputs": [
        {
          "data": {
            "application/vnd.microsoft.datawrangler.viewer.v0+json": {
              "columns": [
                {
                  "name": "index",
                  "rawType": "int64",
                  "type": "integer"
                },
                {
                  "name": "Poster_Link",
                  "rawType": "object",
                  "type": "string"
                },
                {
                  "name": "Series_Title",
                  "rawType": "object",
                  "type": "string"
                },
                {
                  "name": "Released_Year",
                  "rawType": "object",
                  "type": "string"
                },
                {
                  "name": "Certificate",
                  "rawType": "object",
                  "type": "string"
                },
                {
                  "name": "Runtime",
                  "rawType": "object",
                  "type": "string"
                },
                {
                  "name": "Genre",
                  "rawType": "object",
                  "type": "string"
                },
                {
                  "name": "IMDB_Rating",
                  "rawType": "float64",
                  "type": "float"
                },
                {
                  "name": "Overview",
                  "rawType": "object",
                  "type": "string"
                },
                {
                  "name": "Meta_score",
                  "rawType": "float64",
                  "type": "float"
                },
                {
                  "name": "Director",
                  "rawType": "object",
                  "type": "string"
                },
                {
                  "name": "Star1",
                  "rawType": "object",
                  "type": "string"
                },
                {
                  "name": "Star2",
                  "rawType": "object",
                  "type": "string"
                },
                {
                  "name": "Star3",
                  "rawType": "object",
                  "type": "string"
                },
                {
                  "name": "Star4",
                  "rawType": "object",
                  "type": "string"
                },
                {
                  "name": "No_of_Votes",
                  "rawType": "int64",
                  "type": "integer"
                },
                {
                  "name": "Gross",
                  "rawType": "object",
                  "type": "string"
                }
              ],
              "conversionMethod": "pd.DataFrame",
              "ref": "33d4e7f9-47c4-4ce9-91be-d86590551976",
              "rows": [
                [
                  "0",
                  "https://m.media-amazon.com/images/M/MV5BMDFkYTc0MGEtZmNhMC00ZDIzLWFmNTEtODM1ZmRlYWMwMWFmXkEyXkFqcGdeQXVyMTMxODk2OTU@._V1_UX67_CR0,0,67,98_AL_.jpg",
                  "The Shawshank Redemption",
                  "1994",
                  "A",
                  "142 min",
                  "Drama",
                  "9.3",
                  "Two imprisoned men bond over a number of years, finding solace and eventual redemption through acts of common decency.",
                  "80.0",
                  "Frank Darabont",
                  "Tim Robbins",
                  "Morgan Freeman",
                  "Bob Gunton",
                  "William Sadler",
                  "2343110",
                  "28,341,469"
                ],
                [
                  "1",
                  "https://m.media-amazon.com/images/M/MV5BM2MyNjYxNmUtYTAwNi00MTYxLWJmNWYtYzZlODY3ZTk3OTFlXkEyXkFqcGdeQXVyNzkwMjQ5NzM@._V1_UY98_CR1,0,67,98_AL_.jpg",
                  "The Godfather",
                  "1972",
                  "A",
                  "175 min",
                  "Crime, Drama",
                  "9.2",
                  "An organized crime dynasty's aging patriarch transfers control of his clandestine empire to his reluctant son.",
                  "100.0",
                  "Francis Ford Coppola",
                  "Marlon Brando",
                  "Al Pacino",
                  "James Caan",
                  "Diane Keaton",
                  "1620367",
                  "134,966,411"
                ],
                [
                  "2",
                  "https://m.media-amazon.com/images/M/MV5BMTMxNTMwODM0NF5BMl5BanBnXkFtZTcwODAyMTk2Mw@@._V1_UX67_CR0,0,67,98_AL_.jpg",
                  "The Dark Knight",
                  "2008",
                  "UA",
                  "152 min",
                  "Action, Crime, Drama",
                  "9.0",
                  "When the menace known as the Joker wreaks havoc and chaos on the people of Gotham, Batman must accept one of the greatest psychological and physical tests of his ability to fight injustice.",
                  "84.0",
                  "Christopher Nolan",
                  "Christian Bale",
                  "Heath Ledger",
                  "Aaron Eckhart",
                  "Michael Caine",
                  "2303232",
                  "534,858,444"
                ],
                [
                  "3",
                  "https://m.media-amazon.com/images/M/MV5BMWMwMGQzZTItY2JlNC00OWZiLWIyMDctNDk2ZDQ2YjRjMWQ0XkEyXkFqcGdeQXVyNzkwMjQ5NzM@._V1_UY98_CR1,0,67,98_AL_.jpg",
                  "The Godfather: Part II",
                  "1974",
                  "A",
                  "202 min",
                  "Crime, Drama",
                  "9.0",
                  "The early life and career of Vito Corleone in 1920s New York City is portrayed, while his son, Michael, expands and tightens his grip on the family crime syndicate.",
                  "90.0",
                  "Francis Ford Coppola",
                  "Al Pacino",
                  "Robert De Niro",
                  "Robert Duvall",
                  "Diane Keaton",
                  "1129952",
                  "57,300,000"
                ],
                [
                  "4",
                  "https://m.media-amazon.com/images/M/MV5BMWU4N2FjNzYtNTVkNC00NzQ0LTg0MjAtYTJlMjFhNGUxZDFmXkEyXkFqcGdeQXVyNjc1NTYyMjg@._V1_UX67_CR0,0,67,98_AL_.jpg",
                  "12 Angry Men",
                  "1957",
                  "U",
                  "96 min",
                  "Crime, Drama",
                  "9.0",
                  "A jury holdout attempts to prevent a miscarriage of justice by forcing his colleagues to reconsider the evidence.",
                  "96.0",
                  "Sidney Lumet",
                  "Henry Fonda",
                  "Lee J. Cobb",
                  "Martin Balsam",
                  "John Fiedler",
                  "689845",
                  "4,360,000"
                ]
              ],
              "shape": {
                "columns": 16,
                "rows": 5
              }
            },
            "text/html": [
              "<div>\n",
              "<style scoped>\n",
              "    .dataframe tbody tr th:only-of-type {\n",
              "        vertical-align: middle;\n",
              "    }\n",
              "\n",
              "    .dataframe tbody tr th {\n",
              "        vertical-align: top;\n",
              "    }\n",
              "\n",
              "    .dataframe thead th {\n",
              "        text-align: right;\n",
              "    }\n",
              "</style>\n",
              "<table border=\"1\" class=\"dataframe\">\n",
              "  <thead>\n",
              "    <tr style=\"text-align: right;\">\n",
              "      <th></th>\n",
              "      <th>Poster_Link</th>\n",
              "      <th>Series_Title</th>\n",
              "      <th>Released_Year</th>\n",
              "      <th>Certificate</th>\n",
              "      <th>Runtime</th>\n",
              "      <th>Genre</th>\n",
              "      <th>IMDB_Rating</th>\n",
              "      <th>Overview</th>\n",
              "      <th>Meta_score</th>\n",
              "      <th>Director</th>\n",
              "      <th>Star1</th>\n",
              "      <th>Star2</th>\n",
              "      <th>Star3</th>\n",
              "      <th>Star4</th>\n",
              "      <th>No_of_Votes</th>\n",
              "      <th>Gross</th>\n",
              "    </tr>\n",
              "  </thead>\n",
              "  <tbody>\n",
              "    <tr>\n",
              "      <th>0</th>\n",
              "      <td>https://m.media-amazon.com/images/M/MV5BMDFkYT...</td>\n",
              "      <td>The Shawshank Redemption</td>\n",
              "      <td>1994</td>\n",
              "      <td>A</td>\n",
              "      <td>142 min</td>\n",
              "      <td>Drama</td>\n",
              "      <td>9.3</td>\n",
              "      <td>Two imprisoned men bond over a number of years...</td>\n",
              "      <td>80.0</td>\n",
              "      <td>Frank Darabont</td>\n",
              "      <td>Tim Robbins</td>\n",
              "      <td>Morgan Freeman</td>\n",
              "      <td>Bob Gunton</td>\n",
              "      <td>William Sadler</td>\n",
              "      <td>2343110</td>\n",
              "      <td>28,341,469</td>\n",
              "    </tr>\n",
              "    <tr>\n",
              "      <th>1</th>\n",
              "      <td>https://m.media-amazon.com/images/M/MV5BM2MyNj...</td>\n",
              "      <td>The Godfather</td>\n",
              "      <td>1972</td>\n",
              "      <td>A</td>\n",
              "      <td>175 min</td>\n",
              "      <td>Crime, Drama</td>\n",
              "      <td>9.2</td>\n",
              "      <td>An organized crime dynasty's aging patriarch t...</td>\n",
              "      <td>100.0</td>\n",
              "      <td>Francis Ford Coppola</td>\n",
              "      <td>Marlon Brando</td>\n",
              "      <td>Al Pacino</td>\n",
              "      <td>James Caan</td>\n",
              "      <td>Diane Keaton</td>\n",
              "      <td>1620367</td>\n",
              "      <td>134,966,411</td>\n",
              "    </tr>\n",
              "    <tr>\n",
              "      <th>2</th>\n",
              "      <td>https://m.media-amazon.com/images/M/MV5BMTMxNT...</td>\n",
              "      <td>The Dark Knight</td>\n",
              "      <td>2008</td>\n",
              "      <td>UA</td>\n",
              "      <td>152 min</td>\n",
              "      <td>Action, Crime, Drama</td>\n",
              "      <td>9.0</td>\n",
              "      <td>When the menace known as the Joker wreaks havo...</td>\n",
              "      <td>84.0</td>\n",
              "      <td>Christopher Nolan</td>\n",
              "      <td>Christian Bale</td>\n",
              "      <td>Heath Ledger</td>\n",
              "      <td>Aaron Eckhart</td>\n",
              "      <td>Michael Caine</td>\n",
              "      <td>2303232</td>\n",
              "      <td>534,858,444</td>\n",
              "    </tr>\n",
              "    <tr>\n",
              "      <th>3</th>\n",
              "      <td>https://m.media-amazon.com/images/M/MV5BMWMwMG...</td>\n",
              "      <td>The Godfather: Part II</td>\n",
              "      <td>1974</td>\n",
              "      <td>A</td>\n",
              "      <td>202 min</td>\n",
              "      <td>Crime, Drama</td>\n",
              "      <td>9.0</td>\n",
              "      <td>The early life and career of Vito Corleone in ...</td>\n",
              "      <td>90.0</td>\n",
              "      <td>Francis Ford Coppola</td>\n",
              "      <td>Al Pacino</td>\n",
              "      <td>Robert De Niro</td>\n",
              "      <td>Robert Duvall</td>\n",
              "      <td>Diane Keaton</td>\n",
              "      <td>1129952</td>\n",
              "      <td>57,300,000</td>\n",
              "    </tr>\n",
              "    <tr>\n",
              "      <th>4</th>\n",
              "      <td>https://m.media-amazon.com/images/M/MV5BMWU4N2...</td>\n",
              "      <td>12 Angry Men</td>\n",
              "      <td>1957</td>\n",
              "      <td>U</td>\n",
              "      <td>96 min</td>\n",
              "      <td>Crime, Drama</td>\n",
              "      <td>9.0</td>\n",
              "      <td>A jury holdout attempts to prevent a miscarria...</td>\n",
              "      <td>96.0</td>\n",
              "      <td>Sidney Lumet</td>\n",
              "      <td>Henry Fonda</td>\n",
              "      <td>Lee J. Cobb</td>\n",
              "      <td>Martin Balsam</td>\n",
              "      <td>John Fiedler</td>\n",
              "      <td>689845</td>\n",
              "      <td>4,360,000</td>\n",
              "    </tr>\n",
              "  </tbody>\n",
              "</table>\n",
              "</div>"
            ],
            "text/plain": [
              "                                         Poster_Link  \\\n",
              "0  https://m.media-amazon.com/images/M/MV5BMDFkYT...   \n",
              "1  https://m.media-amazon.com/images/M/MV5BM2MyNj...   \n",
              "2  https://m.media-amazon.com/images/M/MV5BMTMxNT...   \n",
              "3  https://m.media-amazon.com/images/M/MV5BMWMwMG...   \n",
              "4  https://m.media-amazon.com/images/M/MV5BMWU4N2...   \n",
              "\n",
              "               Series_Title Released_Year Certificate  Runtime  \\\n",
              "0  The Shawshank Redemption          1994           A  142 min   \n",
              "1             The Godfather          1972           A  175 min   \n",
              "2           The Dark Knight          2008          UA  152 min   \n",
              "3    The Godfather: Part II          1974           A  202 min   \n",
              "4              12 Angry Men          1957           U   96 min   \n",
              "\n",
              "                  Genre  IMDB_Rating  \\\n",
              "0                 Drama          9.3   \n",
              "1          Crime, Drama          9.2   \n",
              "2  Action, Crime, Drama          9.0   \n",
              "3          Crime, Drama          9.0   \n",
              "4          Crime, Drama          9.0   \n",
              "\n",
              "                                            Overview  Meta_score  \\\n",
              "0  Two imprisoned men bond over a number of years...        80.0   \n",
              "1  An organized crime dynasty's aging patriarch t...       100.0   \n",
              "2  When the menace known as the Joker wreaks havo...        84.0   \n",
              "3  The early life and career of Vito Corleone in ...        90.0   \n",
              "4  A jury holdout attempts to prevent a miscarria...        96.0   \n",
              "\n",
              "               Director           Star1           Star2          Star3  \\\n",
              "0        Frank Darabont     Tim Robbins  Morgan Freeman     Bob Gunton   \n",
              "1  Francis Ford Coppola   Marlon Brando       Al Pacino     James Caan   \n",
              "2     Christopher Nolan  Christian Bale    Heath Ledger  Aaron Eckhart   \n",
              "3  Francis Ford Coppola       Al Pacino  Robert De Niro  Robert Duvall   \n",
              "4          Sidney Lumet     Henry Fonda     Lee J. Cobb  Martin Balsam   \n",
              "\n",
              "            Star4  No_of_Votes        Gross  \n",
              "0  William Sadler      2343110   28,341,469  \n",
              "1    Diane Keaton      1620367  134,966,411  \n",
              "2   Michael Caine      2303232  534,858,444  \n",
              "3    Diane Keaton      1129952   57,300,000  \n",
              "4    John Fiedler       689845    4,360,000  "
            ]
          },
          "execution_count": 21,
          "metadata": {},
          "output_type": "execute_result"
        }
      ],
      "source": [
        "imdb = pd.read_csv('https://raw.githubusercontent.com/utkarsh820/Datasets/refs/heads/main/imdb.csv')\n",
        "imdb.head()"
      ]
    },
    {
      "cell_type": "markdown",
      "metadata": {
        "id": "puzKiErN9C1P"
      },
      "source": [
        "Selection of Required Feature"
      ]
    },
    {
      "cell_type": "code",
      "execution_count": 22,
      "metadata": {
        "colab": {
          "base_uri": "https://localhost:8080/",
          "height": 206
        },
        "id": "C-To6ZEspRjF",
        "outputId": "7648af3d-567d-4f68-e07b-f3c2b33d8a9b"
      },
      "outputs": [
        {
          "data": {
            "application/vnd.microsoft.datawrangler.viewer.v0+json": {
              "columns": [
                {
                  "name": "index",
                  "rawType": "int64",
                  "type": "integer"
                },
                {
                  "name": "Director",
                  "rawType": "object",
                  "type": "string"
                },
                {
                  "name": "IMDB_Rating",
                  "rawType": "float64",
                  "type": "float"
                },
                {
                  "name": "Released_Year",
                  "rawType": "object",
                  "type": "string"
                },
                {
                  "name": "Meta_score",
                  "rawType": "float64",
                  "type": "float"
                },
                {
                  "name": "No_of_Votes",
                  "rawType": "int64",
                  "type": "integer"
                },
                {
                  "name": "Runtime",
                  "rawType": "object",
                  "type": "string"
                },
                {
                  "name": "Gross",
                  "rawType": "object",
                  "type": "string"
                }
              ],
              "conversionMethod": "pd.DataFrame",
              "ref": "5ebd101c-98a1-40da-9111-a302eefcf43a",
              "rows": [
                [
                  "0",
                  "Frank Darabont",
                  "9.3",
                  "1994",
                  "80.0",
                  "2343110",
                  "142 min",
                  "28,341,469"
                ],
                [
                  "1",
                  "Francis Ford Coppola",
                  "9.2",
                  "1972",
                  "100.0",
                  "1620367",
                  "175 min",
                  "134,966,411"
                ],
                [
                  "2",
                  "Christopher Nolan",
                  "9.0",
                  "2008",
                  "84.0",
                  "2303232",
                  "152 min",
                  "534,858,444"
                ],
                [
                  "3",
                  "Francis Ford Coppola",
                  "9.0",
                  "1974",
                  "90.0",
                  "1129952",
                  "202 min",
                  "57,300,000"
                ],
                [
                  "4",
                  "Sidney Lumet",
                  "9.0",
                  "1957",
                  "96.0",
                  "689845",
                  "96 min",
                  "4,360,000"
                ]
              ],
              "shape": {
                "columns": 7,
                "rows": 5
              }
            },
            "text/html": [
              "<div>\n",
              "<style scoped>\n",
              "    .dataframe tbody tr th:only-of-type {\n",
              "        vertical-align: middle;\n",
              "    }\n",
              "\n",
              "    .dataframe tbody tr th {\n",
              "        vertical-align: top;\n",
              "    }\n",
              "\n",
              "    .dataframe thead th {\n",
              "        text-align: right;\n",
              "    }\n",
              "</style>\n",
              "<table border=\"1\" class=\"dataframe\">\n",
              "  <thead>\n",
              "    <tr style=\"text-align: right;\">\n",
              "      <th></th>\n",
              "      <th>Director</th>\n",
              "      <th>IMDB_Rating</th>\n",
              "      <th>Released_Year</th>\n",
              "      <th>Meta_score</th>\n",
              "      <th>No_of_Votes</th>\n",
              "      <th>Runtime</th>\n",
              "      <th>Gross</th>\n",
              "    </tr>\n",
              "  </thead>\n",
              "  <tbody>\n",
              "    <tr>\n",
              "      <th>0</th>\n",
              "      <td>Frank Darabont</td>\n",
              "      <td>9.3</td>\n",
              "      <td>1994</td>\n",
              "      <td>80.0</td>\n",
              "      <td>2343110</td>\n",
              "      <td>142 min</td>\n",
              "      <td>28,341,469</td>\n",
              "    </tr>\n",
              "    <tr>\n",
              "      <th>1</th>\n",
              "      <td>Francis Ford Coppola</td>\n",
              "      <td>9.2</td>\n",
              "      <td>1972</td>\n",
              "      <td>100.0</td>\n",
              "      <td>1620367</td>\n",
              "      <td>175 min</td>\n",
              "      <td>134,966,411</td>\n",
              "    </tr>\n",
              "    <tr>\n",
              "      <th>2</th>\n",
              "      <td>Christopher Nolan</td>\n",
              "      <td>9.0</td>\n",
              "      <td>2008</td>\n",
              "      <td>84.0</td>\n",
              "      <td>2303232</td>\n",
              "      <td>152 min</td>\n",
              "      <td>534,858,444</td>\n",
              "    </tr>\n",
              "    <tr>\n",
              "      <th>3</th>\n",
              "      <td>Francis Ford Coppola</td>\n",
              "      <td>9.0</td>\n",
              "      <td>1974</td>\n",
              "      <td>90.0</td>\n",
              "      <td>1129952</td>\n",
              "      <td>202 min</td>\n",
              "      <td>57,300,000</td>\n",
              "    </tr>\n",
              "    <tr>\n",
              "      <th>4</th>\n",
              "      <td>Sidney Lumet</td>\n",
              "      <td>9.0</td>\n",
              "      <td>1957</td>\n",
              "      <td>96.0</td>\n",
              "      <td>689845</td>\n",
              "      <td>96 min</td>\n",
              "      <td>4,360,000</td>\n",
              "    </tr>\n",
              "  </tbody>\n",
              "</table>\n",
              "</div>"
            ],
            "text/plain": [
              "               Director  IMDB_Rating Released_Year  Meta_score  No_of_Votes  \\\n",
              "0        Frank Darabont          9.3          1994        80.0      2343110   \n",
              "1  Francis Ford Coppola          9.2          1972       100.0      1620367   \n",
              "2     Christopher Nolan          9.0          2008        84.0      2303232   \n",
              "3  Francis Ford Coppola          9.0          1974        90.0      1129952   \n",
              "4          Sidney Lumet          9.0          1957        96.0       689845   \n",
              "\n",
              "   Runtime        Gross  \n",
              "0  142 min   28,341,469  \n",
              "1  175 min  134,966,411  \n",
              "2  152 min  534,858,444  \n",
              "3  202 min   57,300,000  \n",
              "4   96 min    4,360,000  "
            ]
          },
          "execution_count": 22,
          "metadata": {},
          "output_type": "execute_result"
        }
      ],
      "source": [
        "data = imdb.copy()\n",
        "data = data[['Director','IMDB_Rating','Released_Year','Meta_score','No_of_Votes','Runtime','Gross']]\n",
        "data.head()"
      ]
    },
    {
      "cell_type": "markdown",
      "metadata": {
        "id": "4AAPIwbA_ZHn"
      },
      "source": [
        "# Data Cleaning"
      ]
    },
    {
      "cell_type": "code",
      "execution_count": 23,
      "metadata": {
        "colab": {
          "base_uri": "https://localhost:8080/"
        },
        "id": "CwTLi7Sy_b8P",
        "outputId": "78462027-84cb-4f94-9dc4-1cb54fe47eb2"
      },
      "outputs": [
        {
          "name": "stdout",
          "output_type": "stream",
          "text": [
            "<class 'pandas.core.frame.DataFrame'>\n",
            "RangeIndex: 1000 entries, 0 to 999\n",
            "Data columns (total 7 columns):\n",
            " #   Column         Non-Null Count  Dtype  \n",
            "---  ------         --------------  -----  \n",
            " 0   Director       1000 non-null   object \n",
            " 1   IMDB_Rating    1000 non-null   float64\n",
            " 2   Released_Year  1000 non-null   object \n",
            " 3   Meta_score     843 non-null    float64\n",
            " 4   No_of_Votes    1000 non-null   int64  \n",
            " 5   Runtime        1000 non-null   object \n",
            " 6   Gross          831 non-null    object \n",
            "dtypes: float64(2), int64(1), object(4)\n",
            "memory usage: 54.8+ KB\n"
          ]
        }
      ],
      "source": [
        "data.info()"
      ]
    },
    {
      "cell_type": "markdown",
      "metadata": {
        "id": "ihBZajO-K6ws"
      },
      "source": [
        "# Checking Null Values percent"
      ]
    },
    {
      "cell_type": "code",
      "execution_count": 24,
      "metadata": {
        "colab": {
          "base_uri": "https://localhost:8080/"
        },
        "id": "0UgY-VWbJ0ls",
        "outputId": "c38fd806-a213-477c-e9af-65b00474a774"
      },
      "outputs": [
        {
          "data": {
            "text/plain": [
              "25.0"
            ]
          },
          "execution_count": 24,
          "metadata": {},
          "output_type": "execute_result"
        }
      ],
      "source": [
        "null_rows = data[data.isnull().any(axis=1)]\n",
        "null_percent = len(null_rows) / len(data) * 100\n",
        "null_percent"
      ]
    },
    {
      "cell_type": "code",
      "execution_count": 25,
      "metadata": {
        "colab": {
          "base_uri": "https://localhost:8080/",
          "height": 303
        },
        "id": "jV3ZL3yIIGv8",
        "outputId": "e0ed3ab8-252c-46cd-9124-d33a0635979d"
      },
      "outputs": [
        {
          "data": {
            "text/plain": [
              "Director           0\n",
              "IMDB_Rating        0\n",
              "Released_Year      0\n",
              "Meta_score       157\n",
              "No_of_Votes        0\n",
              "Runtime            0\n",
              "Gross            169\n",
              "dtype: int64"
            ]
          },
          "execution_count": 25,
          "metadata": {},
          "output_type": "execute_result"
        }
      ],
      "source": [
        "data.isnull().sum()"
      ]
    },
    {
      "cell_type": "markdown",
      "metadata": {
        "id": "283CVTjoNxxo"
      },
      "source": [
        "#### Before Fixing Dataset we will be checking Distribution type\n"
      ]
    },
    {
      "cell_type": "code",
      "execution_count": 26,
      "metadata": {
        "colab": {
          "base_uri": "https://localhost:8080/"
        },
        "id": "DDACmga4OPOc",
        "outputId": "3551cfff-46b5-42f0-b491-7462f826ee1e"
      },
      "outputs": [
        {
          "name": "stdout",
          "output_type": "stream",
          "text": [
            "3.124\n"
          ]
        }
      ],
      "source": [
        "from scipy.stats import skew\n",
        "data_filt = data.dropna(subset=['Gross']).copy()\n",
        "data_filt['Gross'] = data_filt['Gross'].str.replace(',', '').astype(float)\n",
        "print(round(skew(data_filt['Gross']).astype(float),3))"
      ]
    },
    {
      "cell_type": "code",
      "execution_count": 27,
      "metadata": {
        "colab": {
          "base_uri": "https://localhost:8080/",
          "height": 609
        },
        "id": "rD_i7ecnRV-d",
        "outputId": "60f67494-90fc-414c-932f-e4fb1be940c5"
      },
      "outputs": [
        {
          "data": {
            "image/png": "[encoded data removed]",
            "text/plain": [
              "<Figure size 1200x600 with 2 Axes>"
            ]
          },
          "metadata": {},
          "output_type": "display_data"
        }
      ],
      "source": [
        "# Visualization of KDE\n",
        "fig, ax = plt.subplots(1,2,figsize=(12,6))\n",
        "sns.histplot(data_filt['Gross'],bins=40,kde=True,ax=ax[0])\n",
        "ax[0].set_title('Gross Distribution')\n",
        "sns.histplot(data_filt['Meta_score'],bins=40,kde=True,ax=ax[1])\n",
        "ax[1].set_title('Meta_score Distribution')\n",
        "fig.suptitle(\"Data Distribution: Gross vs Meta_score\")\n",
        "plt.tight_layout(rect=[0, 0, 1, 0.95])  # Adjust to fit suptitle\n",
        "plt.show()"
      ]
    },
    {
      "cell_type": "markdown",
      "metadata": {
        "id": "qCxJVH8ANxad"
      },
      "source": [
        "### Conclusion , Since Our data is Right Skewed we will go with median , to Replace our Gross Col"
      ]
    },
    {
      "cell_type": "code",
      "execution_count": 28,
      "metadata": {
        "colab": {
          "base_uri": "https://localhost:8080/"
        },
        "id": "z2gf_MZmFbHM",
        "outputId": "5a15a848-1096-4528-b4fa-23a72d55fa52"
      },
      "outputs": [
        {
          "name": "stdout",
          "output_type": "stream",
          "text": [
            "<class 'pandas.core.frame.DataFrame'>\n",
            "RangeIndex: 1000 entries, 0 to 999\n",
            "Data columns (total 7 columns):\n",
            " #   Column         Non-Null Count  Dtype  \n",
            "---  ------         --------------  -----  \n",
            " 0   Director       1000 non-null   object \n",
            " 1   IMDB_Rating    1000 non-null   float64\n",
            " 2   Released_Year  1000 non-null   float64\n",
            " 3   Meta_score     1000 non-null   float64\n",
            " 4   No_of_Votes    1000 non-null   int64  \n",
            " 5   Runtime        1000 non-null   int32  \n",
            " 6   Gross          1000 non-null   float64\n",
            "dtypes: float64(4), int32(1), int64(1), object(1)\n",
            "memory usage: 50.9+ KB\n",
            "None\n",
            " --- ---  --- ---  --- ---  --- ---  --- ---  --- ---  --- ---  --- ---  --- ---  --- ---  --- ---  --- ---  --- ---  --- ---  --- --- \n",
            "Director         0\n",
            "IMDB_Rating      0\n",
            "Released_Year    0\n",
            "Meta_score       0\n",
            "No_of_Votes      0\n",
            "Runtime          0\n",
            "Gross            0\n",
            "dtype: int64\n"
          ]
        }
      ],
      "source": [
        "#Converting to correct dtypes\n",
        "data['Released_Year'] = pd.to_datetime(data['Released_Year'],errors='coerce').dt.year\n",
        "data['Meta_score'] = data['Meta_score'].fillna(data['Meta_score'].mean()) #---> Fine since it's close to normal distributions\n",
        "# Convert 'Gross' column to numeric, handling commas and errors\n",
        "data['Gross'] = data['Gross'].str.replace(',','')\n",
        "data['Gross'] = data['Gross'].astype(float)\n",
        "data['Gross'] = data['Gross'].fillna(data['Gross'].median()) # Since it Right skewed Mean > Median > mode\n",
        "data['Runtime'] = data['Runtime'].str.replace(\"min\",'').astype(int)\n",
        "\n",
        "#replacing missing col in Release Year\n",
        "data['Released_Year'] = data['Released_Year'].fillna(1995.0)  #If you guy's wondering why 1995 search through Google and looked into data_set like name,star,story.\n",
        "#Let's recheck data.info()\n",
        "\n",
        "print(data.info())\n",
        "print(15*\" --- --- \")\n",
        "print(data.isnull().sum())"
      ]
    },
    {
      "cell_type": "markdown",
      "metadata": {
        "id": "JnCeK8wwoSpu"
      },
      "source": [
        "#### Adding decade"
      ]
    },
    {
      "cell_type": "code",
      "execution_count": 29,
      "metadata": {
        "colab": {
          "base_uri": "https://localhost:8080/",
          "height": 206
        },
        "id": "ePab_46soSY-",
        "outputId": "16b002a8-038e-4ff6-e4bc-2584668949ad"
      },
      "outputs": [
        {
          "data": {
            "application/vnd.microsoft.datawrangler.viewer.v0+json": {
              "columns": [
                {
                  "name": "index",
                  "rawType": "int64",
                  "type": "integer"
                },
                {
                  "name": "Director",
                  "rawType": "object",
                  "type": "string"
                },
                {
                  "name": "IMDB_Rating",
                  "rawType": "float64",
                  "type": "float"
                },
                {
                  "name": "Released_Year",
                  "rawType": "float64",
                  "type": "float"
                },
                {
                  "name": "Meta_score",
                  "rawType": "float64",
                  "type": "float"
                },
                {
                  "name": "No_of_Votes",
                  "rawType": "int64",
                  "type": "integer"
                },
                {
                  "name": "Runtime",
                  "rawType": "int32",
                  "type": "integer"
                },
                {
                  "name": "Gross",
                  "rawType": "float64",
                  "type": "float"
                },
                {
                  "name": "Decade",
                  "rawType": "float64",
                  "type": "float"
                }
              ],
              "conversionMethod": "pd.DataFrame",
              "ref": "f8ade779-fa2a-459b-87aa-472c5cfffcc8",
              "rows": [
                [
                  "0",
                  "Frank Darabont",
                  "9.3",
                  "1994.0",
                  "80.0",
                  "2343110",
                  "142",
                  "28341469.0",
                  "1990.0"
                ],
                [
                  "1",
                  "Francis Ford Coppola",
                  "9.2",
                  "1972.0",
                  "100.0",
                  "1620367",
                  "175",
                  "134966411.0",
                  "1970.0"
                ],
                [
                  "2",
                  "Christopher Nolan",
                  "9.0",
                  "2008.0",
                  "84.0",
                  "2303232",
                  "152",
                  "534858444.0",
                  "2000.0"
                ],
                [
                  "3",
                  "Francis Ford Coppola",
                  "9.0",
                  "1974.0",
                  "90.0",
                  "1129952",
                  "202",
                  "57300000.0",
                  "1970.0"
                ],
                [
                  "4",
                  "Sidney Lumet",
                  "9.0",
                  "1957.0",
                  "96.0",
                  "689845",
                  "96",
                  "4360000.0",
                  "1950.0"
                ]
              ],
              "shape": {
                "columns": 8,
                "rows": 5
              }
            },
            "text/html": [
              "<div>\n",
              "<style scoped>\n",
              "    .dataframe tbody tr th:only-of-type {\n",
              "        vertical-align: middle;\n",
              "    }\n",
              "\n",
              "    .dataframe tbody tr th {\n",
              "        vertical-align: top;\n",
              "    }\n",
              "\n",
              "    .dataframe thead th {\n",
              "        text-align: right;\n",
              "    }\n",
              "</style>\n",
              "<table border=\"1\" class=\"dataframe\">\n",
              "  <thead>\n",
              "    <tr style=\"text-align: right;\">\n",
              "      <th></th>\n",
              "      <th>Director</th>\n",
              "      <th>IMDB_Rating</th>\n",
              "      <th>Released_Year</th>\n",
              "      <th>Meta_score</th>\n",
              "      <th>No_of_Votes</th>\n",
              "      <th>Runtime</th>\n",
              "      <th>Gross</th>\n",
              "      <th>Decade</th>\n",
              "    </tr>\n",
              "  </thead>\n",
              "  <tbody>\n",
              "    <tr>\n",
              "      <th>0</th>\n",
              "      <td>Frank Darabont</td>\n",
              "      <td>9.3</td>\n",
              "      <td>1994.0</td>\n",
              "      <td>80.0</td>\n",
              "      <td>2343110</td>\n",
              "      <td>142</td>\n",
              "      <td>28341469.0</td>\n",
              "      <td>1990.0</td>\n",
              "    </tr>\n",
              "    <tr>\n",
              "      <th>1</th>\n",
              "      <td>Francis Ford Coppola</td>\n",
              "      <td>9.2</td>\n",
              "      <td>1972.0</td>\n",
              "      <td>100.0</td>\n",
              "      <td>1620367</td>\n",
              "      <td>175</td>\n",
              "      <td>134966411.0</td>\n",
              "      <td>1970.0</td>\n",
              "    </tr>\n",
              "    <tr>\n",
              "      <th>2</th>\n",
              "      <td>Christopher Nolan</td>\n",
              "      <td>9.0</td>\n",
              "      <td>2008.0</td>\n",
              "      <td>84.0</td>\n",
              "      <td>2303232</td>\n",
              "      <td>152</td>\n",
              "      <td>534858444.0</td>\n",
              "      <td>2000.0</td>\n",
              "    </tr>\n",
              "    <tr>\n",
              "      <th>3</th>\n",
              "      <td>Francis Ford Coppola</td>\n",
              "      <td>9.0</td>\n",
              "      <td>1974.0</td>\n",
              "      <td>90.0</td>\n",
              "      <td>1129952</td>\n",
              "      <td>202</td>\n",
              "      <td>57300000.0</td>\n",
              "      <td>1970.0</td>\n",
              "    </tr>\n",
              "    <tr>\n",
              "      <th>4</th>\n",
              "      <td>Sidney Lumet</td>\n",
              "      <td>9.0</td>\n",
              "      <td>1957.0</td>\n",
              "      <td>96.0</td>\n",
              "      <td>689845</td>\n",
              "      <td>96</td>\n",
              "      <td>4360000.0</td>\n",
              "      <td>1950.0</td>\n",
              "    </tr>\n",
              "  </tbody>\n",
              "</table>\n",
              "</div>"
            ],
            "text/plain": [
              "               Director  IMDB_Rating  Released_Year  Meta_score  No_of_Votes  \\\n",
              "0        Frank Darabont          9.3         1994.0        80.0      2343110   \n",
              "1  Francis Ford Coppola          9.2         1972.0       100.0      1620367   \n",
              "2     Christopher Nolan          9.0         2008.0        84.0      2303232   \n",
              "3  Francis Ford Coppola          9.0         1974.0        90.0      1129952   \n",
              "4          Sidney Lumet          9.0         1957.0        96.0       689845   \n",
              "\n",
              "   Runtime        Gross  Decade  \n",
              "0      142   28341469.0  1990.0  \n",
              "1      175  134966411.0  1970.0  \n",
              "2      152  534858444.0  2000.0  \n",
              "3      202   57300000.0  1970.0  \n",
              "4       96    4360000.0  1950.0  "
            ]
          },
          "execution_count": 29,
          "metadata": {},
          "output_type": "execute_result"
        }
      ],
      "source": [
        "data['Decade'] = (data['Released_Year'] // 10) * 10\n",
        "data.head()"
      ]
    },
    {
      "cell_type": "markdown",
      "metadata": {
        "id": "sbCedAryofk1"
      },
      "source": [
        "## Exploratory Data-Analysis-Part (EDA)"
      ]
    },
    {
      "cell_type": "code",
      "execution_count": 30,
      "metadata": {
        "colab": {
          "base_uri": "https://localhost:8080/",
          "height": 300
        },
        "id": "1zTPBUpIosL-",
        "outputId": "c891a5ab-21bd-41f7-a330-97a07539ff71"
      },
      "outputs": [
        {
          "data": {
            "application/vnd.microsoft.datawrangler.viewer.v0+json": {
              "columns": [
                {
                  "name": "index",
                  "rawType": "object",
                  "type": "string"
                },
                {
                  "name": "IMDB_Rating",
                  "rawType": "float64",
                  "type": "float"
                },
                {
                  "name": "Released_Year",
                  "rawType": "float64",
                  "type": "float"
                },
                {
                  "name": "Meta_score",
                  "rawType": "float64",
                  "type": "float"
                },
                {
                  "name": "No_of_Votes",
                  "rawType": "float64",
                  "type": "float"
                },
                {
                  "name": "Runtime",
                  "rawType": "float64",
                  "type": "float"
                },
                {
                  "name": "Gross",
                  "rawType": "float64",
                  "type": "float"
                },
                {
                  "name": "Decade",
                  "rawType": "float64",
                  "type": "float"
                }
              ],
              "conversionMethod": "pd.DataFrame",
              "ref": "f2b4e8c9-216f-4a06-a5ab-ca7aac7422e8",
              "rows": [
                [
                  "count",
                  "1000.0",
                  "1000.0",
                  "1000.0",
                  "1000.0",
                  "1000.0",
                  "1000.0",
                  "1000.0"
                ],
                [
                  "mean",
                  "7.949299999999999",
                  "1991.221",
                  "77.97153024911033",
                  "273692.911",
                  "122.891",
                  "60513598.724",
                  "1986.59"
                ],
                [
                  "std",
                  "0.27549120749200917",
                  "23.28566901296552",
                  "11.362060250637535",
                  "327372.7039341249",
                  "28.093671411429547",
                  "101419170.55617777",
                  "23.17777187542203"
                ],
                [
                  "min",
                  "7.6",
                  "1920.0",
                  "28.0",
                  "25088.0",
                  "45.0",
                  "1305.0",
                  "1920.0"
                ],
                [
                  "25%",
                  "7.7",
                  "1976.0",
                  "72.0",
                  "55526.25",
                  "103.0",
                  "5012919.25",
                  "1970.0"
                ],
                [
                  "50%",
                  "7.9",
                  "1999.0",
                  "77.97153024911032",
                  "138548.5",
                  "119.0",
                  "23530892.0",
                  "1990.0"
                ],
                [
                  "75%",
                  "8.1",
                  "2009.0",
                  "85.25",
                  "374161.25",
                  "137.0",
                  "61539891.25",
                  "2000.0"
                ],
                [
                  "max",
                  "9.3",
                  "2020.0",
                  "100.0",
                  "2343110.0",
                  "321.0",
                  "936662225.0",
                  "2020.0"
                ]
              ],
              "shape": {
                "columns": 7,
                "rows": 8
              }
            },
            "text/html": [
              "<div>\n",
              "<style scoped>\n",
              "    .dataframe tbody tr th:only-of-type {\n",
              "        vertical-align: middle;\n",
              "    }\n",
              "\n",
              "    .dataframe tbody tr th {\n",
              "        vertical-align: top;\n",
              "    }\n",
              "\n",
              "    .dataframe thead th {\n",
              "        text-align: right;\n",
              "    }\n",
              "</style>\n",
              "<table border=\"1\" class=\"dataframe\">\n",
              "  <thead>\n",
              "    <tr style=\"text-align: right;\">\n",
              "      <th></th>\n",
              "      <th>IMDB_Rating</th>\n",
              "      <th>Released_Year</th>\n",
              "      <th>Meta_score</th>\n",
              "      <th>No_of_Votes</th>\n",
              "      <th>Runtime</th>\n",
              "      <th>Gross</th>\n",
              "      <th>Decade</th>\n",
              "    </tr>\n",
              "  </thead>\n",
              "  <tbody>\n",
              "    <tr>\n",
              "      <th>count</th>\n",
              "      <td>1000.000000</td>\n",
              "      <td>1000.000000</td>\n",
              "      <td>1000.00000</td>\n",
              "      <td>1.000000e+03</td>\n",
              "      <td>1000.000000</td>\n",
              "      <td>1.000000e+03</td>\n",
              "      <td>1000.000000</td>\n",
              "    </tr>\n",
              "    <tr>\n",
              "      <th>mean</th>\n",
              "      <td>7.949300</td>\n",
              "      <td>1991.221000</td>\n",
              "      <td>77.97153</td>\n",
              "      <td>2.736929e+05</td>\n",
              "      <td>122.891000</td>\n",
              "      <td>6.051360e+07</td>\n",
              "      <td>1986.590000</td>\n",
              "    </tr>\n",
              "    <tr>\n",
              "      <th>std</th>\n",
              "      <td>0.275491</td>\n",
              "      <td>23.285669</td>\n",
              "      <td>11.36206</td>\n",
              "      <td>3.273727e+05</td>\n",
              "      <td>28.093671</td>\n",
              "      <td>1.014192e+08</td>\n",
              "      <td>23.177772</td>\n",
              "    </tr>\n",
              "    <tr>\n",
              "      <th>min</th>\n",
              "      <td>7.600000</td>\n",
              "      <td>1920.000000</td>\n",
              "      <td>28.00000</td>\n",
              "      <td>2.508800e+04</td>\n",
              "      <td>45.000000</td>\n",
              "      <td>1.305000e+03</td>\n",
              "      <td>1920.000000</td>\n",
              "    </tr>\n",
              "    <tr>\n",
              "      <th>25%</th>\n",
              "      <td>7.700000</td>\n",
              "      <td>1976.000000</td>\n",
              "      <td>72.00000</td>\n",
              "      <td>5.552625e+04</td>\n",
              "      <td>103.000000</td>\n",
              "      <td>5.012919e+06</td>\n",
              "      <td>1970.000000</td>\n",
              "    </tr>\n",
              "    <tr>\n",
              "      <th>50%</th>\n",
              "      <td>7.900000</td>\n",
              "      <td>1999.000000</td>\n",
              "      <td>77.97153</td>\n",
              "      <td>1.385485e+05</td>\n",
              "      <td>119.000000</td>\n",
              "      <td>2.353089e+07</td>\n",
              "      <td>1990.000000</td>\n",
              "    </tr>\n",
              "    <tr>\n",
              "      <th>75%</th>\n",
              "      <td>8.100000</td>\n",
              "      <td>2009.000000</td>\n",
              "      <td>85.25000</td>\n",
              "      <td>3.741612e+05</td>\n",
              "      <td>137.000000</td>\n",
              "      <td>6.153989e+07</td>\n",
              "      <td>2000.000000</td>\n",
              "    </tr>\n",
              "    <tr>\n",
              "      <th>max</th>\n",
              "      <td>9.300000</td>\n",
              "      <td>2020.000000</td>\n",
              "      <td>100.00000</td>\n",
              "      <td>2.343110e+06</td>\n",
              "      <td>321.000000</td>\n",
              "      <td>9.366622e+08</td>\n",
              "      <td>2020.000000</td>\n",
              "    </tr>\n",
              "  </tbody>\n",
              "</table>\n",
              "</div>"
            ],
            "text/plain": [
              "       IMDB_Rating  Released_Year  Meta_score   No_of_Votes      Runtime  \\\n",
              "count  1000.000000    1000.000000  1000.00000  1.000000e+03  1000.000000   \n",
              "mean      7.949300    1991.221000    77.97153  2.736929e+05   122.891000   \n",
              "std       0.275491      23.285669    11.36206  3.273727e+05    28.093671   \n",
              "min       7.600000    1920.000000    28.00000  2.508800e+04    45.000000   \n",
              "25%       7.700000    1976.000000    72.00000  5.552625e+04   103.000000   \n",
              "50%       7.900000    1999.000000    77.97153  1.385485e+05   119.000000   \n",
              "75%       8.100000    2009.000000    85.25000  3.741612e+05   137.000000   \n",
              "max       9.300000    2020.000000   100.00000  2.343110e+06   321.000000   \n",
              "\n",
              "              Gross       Decade  \n",
              "count  1.000000e+03  1000.000000  \n",
              "mean   6.051360e+07  1986.590000  \n",
              "std    1.014192e+08    23.177772  \n",
              "min    1.305000e+03  1920.000000  \n",
              "25%    5.012919e+06  1970.000000  \n",
              "50%    2.353089e+07  1990.000000  \n",
              "75%    6.153989e+07  2000.000000  \n",
              "max    9.366622e+08  2020.000000  "
            ]
          },
          "execution_count": 30,
          "metadata": {},
          "output_type": "execute_result"
        }
      ],
      "source": [
        "# Describing Our data\n",
        "data.describe()"
      ]
    },
    {
      "cell_type": "code",
      "execution_count": 31,
      "metadata": {
        "colab": {
          "base_uri": "https://localhost:8080/",
          "height": 429
        },
        "id": "gVwW8FV9ofGN",
        "outputId": "e616ee61-3777-4cd4-a760-03d8cca41bdb"
      },
      "outputs": [
        {
          "data": {
            "text/plain": [
              "Director\n",
              "Frank Darabont        8.95\n",
              "Irvin Kershner        8.70\n",
              "Lana Wachowski        8.70\n",
              "George Lucas          8.60\n",
              "Roberto Benigni       8.60\n",
              "Masaki Kobayashi      8.60\n",
              "Thomas Kail           8.60\n",
              "Sudha Kongara         8.60\n",
              "Fernando Meirelles    8.60\n",
              "Roger Allers          8.50\n",
              "Name: IMDB_Rating, dtype: float64"
            ]
          },
          "execution_count": 31,
          "metadata": {},
          "output_type": "execute_result"
        }
      ],
      "source": [
        "director_ratings = data.groupby(\"Director\")['IMDB_Rating'].mean().sort_values(ascending=False).head(10)\n",
        "director_ratings"
      ]
    },
    {
      "cell_type": "code",
      "execution_count": 32,
      "metadata": {
        "colab": {
          "base_uri": "https://localhost:8080/",
          "height": 607
        },
        "id": "tX8mbR1PoW_-",
        "outputId": "fc0ebc0a-b1da-4efc-a4d4-1b5ea16077b3"
      },
      "outputs": [
        {
          "data": {
            "image/png": "[encoded data removed]",
            "text/plain": [
              "<Figure size 1200x600 with 1 Axes>"
            ]
          },
          "metadata": {},
          "output_type": "display_data"
        }
      ],
      "source": [
        "plt.figure(figsize=(12, 6))  # Adjust figure size for better visibility\n",
        "sns.barplot(x=director_ratings.index, y=director_ratings.values,hue = director_ratings.index, palette=\"viridis\")\n",
        "plt.xticks(rotation=45, ha=\"right\")  # Rotate x-axis labels for readability\n",
        "plt.title(\"Top 10 Directors by Average IMDB Rating\", fontsize=16)\n",
        "plt.xlabel(\"Director\", fontsize=12)\n",
        "plt.ylabel(\"Average IMDB Rating\", fontsize=12)\n",
        "plt.tight_layout()"
      ]
    },
    {
      "cell_type": "code",
      "execution_count": 33,
      "metadata": {
        "colab": {
          "base_uri": "https://localhost:8080/",
          "height": 542
        },
        "id": "xdQKpTUB93d3",
        "outputId": "c3ce1a64-78ef-4588-f689-c5c0c86fc59b"
      },
      "outputs": [
        {
          "data": {
            "image/png": "[encoded data removed]",
            "text/plain": [
              "<Figure size 1500x600 with 1 Axes>"
            ]
          },
          "metadata": {},
          "output_type": "display_data"
        }
      ],
      "source": [
        "plt.figure(figsize=(15,6))\n",
        "sns.boxplot(x='Decade',y='IMDB_Rating',data=data)\n",
        "\n",
        "plt.show()"
      ]
    },
    {
      "cell_type": "markdown",
      "metadata": {
        "id": "8Lt4OGq7CHG_"
      },
      "source": [
        "# Lets Explore Correaltion"
      ]
    },
    {
      "cell_type": "code",
      "execution_count": 34,
      "metadata": {
        "colab": {
          "base_uri": "https://localhost:8080/",
          "height": 843
        },
        "id": "E6hISY0dCKtn",
        "outputId": "526e2fca-4ee3-4eb0-a848-42390822afd3"
      },
      "outputs": [
        {
          "name": "stdout",
          "output_type": "stream",
          "text": [
            "Normalized Covariance Matrix:\n",
            "               Runtime  IMDB_Rating     Gross  Meta_score\n",
            "Runtime      1.001001     0.243339  0.138492   -0.027822\n",
            "IMDB_Rating  0.243339     1.001001  0.085604    0.254157\n",
            "Gross        0.138492     0.085604  1.001001   -0.045361\n",
            "Meta_score  -0.027822     0.254157 -0.045361    1.001001\n",
            "\n",
            "Normalized Correlation Matrix:\n",
            "               Runtime  IMDB_Rating     Gross  Meta_score\n",
            "Runtime      1.000000     0.243096  0.138353   -0.027794\n",
            "IMDB_Rating  0.243096     1.000000  0.085518    0.253903\n",
            "Gross        0.138353     0.085518  1.000000   -0.045315\n",
            "Meta_score  -0.027794     0.253903 -0.045315    1.000000\n"
          ]
        },
        {
          "data": {
            "image/png": "[encoded data removed]",
            "text/plain": [
              "<Figure size 800x600 with 2 Axes>"
            ]
          },
          "metadata": {},
          "output_type": "display_data"
        }
      ],
      "source": [
        "scaler = StandardScaler()\n",
        "relations = data[['Runtime', 'IMDB_Rating', 'Gross', 'Meta_score']]\n",
        "relations_scaled = pd.DataFrame(scaler.fit_transform(relations), columns=relations.columns)\n",
        "\n",
        "# Covariance and Correlation on Normalized Data\n",
        "cov_matrix_scaled = relations_scaled.cov()\n",
        "corr_matrix_scaled = relations_scaled.corr()\n",
        "\n",
        "# Show both matrices\n",
        "print(\"Normalized Covariance Matrix:\\n\", cov_matrix_scaled)\n",
        "print(\"\\nNormalized Correlation Matrix:\\n\", corr_matrix_scaled)\n",
        "\n",
        "# Heatmap of Correlation\n",
        "plt.figure(figsize=(8, 6))\n",
        "sns.heatmap(corr_matrix_scaled, annot=True, cmap='coolwarm', linewidths=0.5)\n",
        "plt.title(\"Correlation Matrix (Normalized Data)\")\n",
        "plt.tight_layout()\n",
        "plt.show()"
      ]
    },
    {
      "cell_type": "markdown",
      "metadata": {
        "id": "VTdEI9p7EuO4"
      },
      "source": [
        "### Trend line"
      ]
    },
    {
      "cell_type": "code",
      "execution_count": 35,
      "metadata": {
        "colab": {
          "base_uri": "https://localhost:8080/",
          "height": 524
        },
        "id": "gNJBQ8FuExwI",
        "outputId": "62d72139-d686-4cbc-bc00-300a7aab5550"
      },
      "outputs": [
        {
          "data": {
            "text/plain": [
              "<seaborn.axisgrid.FacetGrid at 0x1e06561e390>"
            ]
          },
          "execution_count": 35,
          "metadata": {},
          "output_type": "execute_result"
        },
        {
          "data": {
            "image/png": "[encoded data removed]",
            "text/plain": [
              "<Figure size 500x500 with 1 Axes>"
            ]
          },
          "metadata": {},
          "output_type": "display_data"
        }
      ],
      "source": [
        "sns.lmplot(data=relations, x='IMDB_Rating', y='Gross')"
      ]
    },
    {
      "cell_type": "markdown",
      "metadata": {
        "id": "lAbvI8KpE6ZP"
      },
      "source": [
        "# Conclusion:\n",
        "#### \"There is a strong positive correlation (r ≈ 0.86) between Gross revenue and IMDB Rating, suggesting that higher-rated movies tend to earn more at the box office. This indicates a potential relationship between movie quality (as perceived by viewers) and financial success.\""
      ]
    },
    {
      "cell_type": "markdown",
      "metadata": {
        "id": "2sp36800fL4h"
      },
      "source": [
        "### Calculating Estimating Average Ratings"
      ]
    },
    {
      "cell_type": "code",
      "execution_count": 36,
      "metadata": {
        "colab": {
          "base_uri": "https://localhost:8080/",
          "height": 394
        },
        "id": "-bAD5Jb_FH7w",
        "outputId": "a5b892c2-180d-4b6d-cf76-e0a8b0961c30"
      },
      "outputs": [
        {
          "data": {
            "application/vnd.microsoft.datawrangler.viewer.v0+json": {
              "columns": [
                {
                  "name": "index",
                  "rawType": "int64",
                  "type": "integer"
                },
                {
                  "name": "Decade_",
                  "rawType": "float64",
                  "type": "float"
                },
                {
                  "name": "Gross_mean",
                  "rawType": "float64",
                  "type": "float"
                },
                {
                  "name": "Gross_std",
                  "rawType": "float64",
                  "type": "float"
                },
                {
                  "name": "Gross_count",
                  "rawType": "int64",
                  "type": "integer"
                }
              ],
              "conversionMethod": "pd.DataFrame",
              "ref": "886f9ff6-befb-4849-9e1a-18cede0d441d",
              "rows": [
                [
                  "0",
                  "1920.0",
                  "7759318.090909091",
                  "10305740.790689562",
                  "11"
                ],
                [
                  "1",
                  "1930.0",
                  "20753541.625",
                  "39283565.72546112",
                  "24"
                ],
                [
                  "2",
                  "1940.0",
                  "14823789.342857143",
                  "14836364.176300222",
                  "35"
                ],
                [
                  "3",
                  "1950.0",
                  "18351568.10714286",
                  "16878398.95371566",
                  "56"
                ],
                [
                  "4",
                  "1960.0",
                  "28970485.739726026",
                  "32205106.620006416",
                  "73"
                ],
                [
                  "5",
                  "1970.0",
                  "46314700.44736842",
                  "58892379.55014471",
                  "76"
                ],
                [
                  "6",
                  "1980.0",
                  "58392890.76404494",
                  "76714522.38385558",
                  "89"
                ],
                [
                  "7",
                  "1990.0",
                  "59479117.37086093",
                  "91771249.3774549",
                  "151"
                ],
                [
                  "8",
                  "2000.0",
                  "65376232.0",
                  "101330062.10358815",
                  "237"
                ],
                [
                  "9",
                  "2010.0",
                  "94773602.29338843",
                  "144743777.68777207",
                  "242"
                ],
                [
                  "10",
                  "2020.0",
                  "23530892.0",
                  "0.0",
                  "6"
                ]
              ],
              "shape": {
                "columns": 4,
                "rows": 11
              }
            },
            "text/html": [
              "<div>\n",
              "<style scoped>\n",
              "    .dataframe tbody tr th:only-of-type {\n",
              "        vertical-align: middle;\n",
              "    }\n",
              "\n",
              "    .dataframe tbody tr th {\n",
              "        vertical-align: top;\n",
              "    }\n",
              "\n",
              "    .dataframe thead th {\n",
              "        text-align: right;\n",
              "    }\n",
              "</style>\n",
              "<table border=\"1\" class=\"dataframe\">\n",
              "  <thead>\n",
              "    <tr style=\"text-align: right;\">\n",
              "      <th></th>\n",
              "      <th>Decade_</th>\n",
              "      <th>Gross_mean</th>\n",
              "      <th>Gross_std</th>\n",
              "      <th>Gross_count</th>\n",
              "    </tr>\n",
              "  </thead>\n",
              "  <tbody>\n",
              "    <tr>\n",
              "      <th>0</th>\n",
              "      <td>1920.0</td>\n",
              "      <td>7.759318e+06</td>\n",
              "      <td>1.030574e+07</td>\n",
              "      <td>11</td>\n",
              "    </tr>\n",
              "    <tr>\n",
              "      <th>1</th>\n",
              "      <td>1930.0</td>\n",
              "      <td>2.075354e+07</td>\n",
              "      <td>3.928357e+07</td>\n",
              "      <td>24</td>\n",
              "    </tr>\n",
              "    <tr>\n",
              "      <th>2</th>\n",
              "      <td>1940.0</td>\n",
              "      <td>1.482379e+07</td>\n",
              "      <td>1.483636e+07</td>\n",
              "      <td>35</td>\n",
              "    </tr>\n",
              "    <tr>\n",
              "      <th>3</th>\n",
              "      <td>1950.0</td>\n",
              "      <td>1.835157e+07</td>\n",
              "      <td>1.687840e+07</td>\n",
              "      <td>56</td>\n",
              "    </tr>\n",
              "    <tr>\n",
              "      <th>4</th>\n",
              "      <td>1960.0</td>\n",
              "      <td>2.897049e+07</td>\n",
              "      <td>3.220511e+07</td>\n",
              "      <td>73</td>\n",
              "    </tr>\n",
              "    <tr>\n",
              "      <th>5</th>\n",
              "      <td>1970.0</td>\n",
              "      <td>4.631470e+07</td>\n",
              "      <td>5.889238e+07</td>\n",
              "      <td>76</td>\n",
              "    </tr>\n",
              "    <tr>\n",
              "      <th>6</th>\n",
              "      <td>1980.0</td>\n",
              "      <td>5.839289e+07</td>\n",
              "      <td>7.671452e+07</td>\n",
              "      <td>89</td>\n",
              "    </tr>\n",
              "    <tr>\n",
              "      <th>7</th>\n",
              "      <td>1990.0</td>\n",
              "      <td>5.947912e+07</td>\n",
              "      <td>9.177125e+07</td>\n",
              "      <td>151</td>\n",
              "    </tr>\n",
              "    <tr>\n",
              "      <th>8</th>\n",
              "      <td>2000.0</td>\n",
              "      <td>6.537623e+07</td>\n",
              "      <td>1.013301e+08</td>\n",
              "      <td>237</td>\n",
              "    </tr>\n",
              "    <tr>\n",
              "      <th>9</th>\n",
              "      <td>2010.0</td>\n",
              "      <td>9.477360e+07</td>\n",
              "      <td>1.447438e+08</td>\n",
              "      <td>242</td>\n",
              "    </tr>\n",
              "    <tr>\n",
              "      <th>10</th>\n",
              "      <td>2020.0</td>\n",
              "      <td>2.353089e+07</td>\n",
              "      <td>0.000000e+00</td>\n",
              "      <td>6</td>\n",
              "    </tr>\n",
              "  </tbody>\n",
              "</table>\n",
              "</div>"
            ],
            "text/plain": [
              "    Decade_    Gross_mean     Gross_std  Gross_count\n",
              "0    1920.0  7.759318e+06  1.030574e+07           11\n",
              "1    1930.0  2.075354e+07  3.928357e+07           24\n",
              "2    1940.0  1.482379e+07  1.483636e+07           35\n",
              "3    1950.0  1.835157e+07  1.687840e+07           56\n",
              "4    1960.0  2.897049e+07  3.220511e+07           73\n",
              "5    1970.0  4.631470e+07  5.889238e+07           76\n",
              "6    1980.0  5.839289e+07  7.671452e+07           89\n",
              "7    1990.0  5.947912e+07  9.177125e+07          151\n",
              "8    2000.0  6.537623e+07  1.013301e+08          237\n",
              "9    2010.0  9.477360e+07  1.447438e+08          242\n",
              "10   2020.0  2.353089e+07  0.000000e+00            6"
            ]
          },
          "execution_count": 36,
          "metadata": {},
          "output_type": "execute_result"
        }
      ],
      "source": [
        "summary = data.groupby(\"Decade\").agg({'Gross':['mean','std','count']}).reset_index()\n",
        "summary.columns = ['_'.join(col).strip() for col in summary.columns]\n",
        "summary"
      ]
    },
    {
      "cell_type": "code",
      "execution_count": 37,
      "metadata": {
        "colab": {
          "base_uri": "https://localhost:8080/",
          "height": 394
        },
        "id": "obtaG-qlhvmQ",
        "outputId": "5fe5fd4a-31f2-4512-ce7c-9ebb91d278a8"
      },
      "outputs": [
        {
          "data": {
            "application/vnd.microsoft.datawrangler.viewer.v0+json": {
              "columns": [
                {
                  "name": "index",
                  "rawType": "int64",
                  "type": "integer"
                },
                {
                  "name": "Decade_",
                  "rawType": "float64",
                  "type": "float"
                },
                {
                  "name": "Gross_mean",
                  "rawType": "float64",
                  "type": "float"
                },
                {
                  "name": "Gross_std",
                  "rawType": "float64",
                  "type": "float"
                },
                {
                  "name": "Gross_count",
                  "rawType": "int64",
                  "type": "integer"
                },
                {
                  "name": "sem",
                  "rawType": "float64",
                  "type": "float"
                }
              ],
              "conversionMethod": "pd.DataFrame",
              "ref": "8f217c82-d942-4f28-8bef-dc8216ebaa07",
              "rows": [
                [
                  "0",
                  "1920.0",
                  "7759318.090909091",
                  "10305740.790689562",
                  "11",
                  "25.36011705789393"
                ],
                [
                  "1",
                  "1930.0",
                  "20753541.625",
                  "39283565.72546112",
                  "24",
                  "25.36011705789393"
                ],
                [
                  "2",
                  "1940.0",
                  "14823789.342857143",
                  "14836364.176300222",
                  "35",
                  "25.36011705789393"
                ],
                [
                  "3",
                  "1950.0",
                  "18351568.10714286",
                  "16878398.95371566",
                  "56",
                  "25.36011705789393"
                ],
                [
                  "4",
                  "1960.0",
                  "28970485.739726026",
                  "32205106.620006416",
                  "73",
                  "25.36011705789393"
                ],
                [
                  "5",
                  "1970.0",
                  "46314700.44736842",
                  "58892379.55014471",
                  "76",
                  "25.36011705789393"
                ],
                [
                  "6",
                  "1980.0",
                  "58392890.76404494",
                  "76714522.38385558",
                  "89",
                  "25.36011705789393"
                ],
                [
                  "7",
                  "1990.0",
                  "59479117.37086093",
                  "91771249.3774549",
                  "151",
                  "25.36011705789393"
                ],
                [
                  "8",
                  "2000.0",
                  "65376232.0",
                  "101330062.10358815",
                  "237",
                  "25.36011705789393"
                ],
                [
                  "9",
                  "2010.0",
                  "94773602.29338843",
                  "144743777.68777207",
                  "242",
                  "25.36011705789393"
                ],
                [
                  "10",
                  "2020.0",
                  "23530892.0",
                  "0.0",
                  "6",
                  "25.36011705789393"
                ]
              ],
              "shape": {
                "columns": 5,
                "rows": 11
              }
            },
            "text/html": [
              "<div>\n",
              "<style scoped>\n",
              "    .dataframe tbody tr th:only-of-type {\n",
              "        vertical-align: middle;\n",
              "    }\n",
              "\n",
              "    .dataframe tbody tr th {\n",
              "        vertical-align: top;\n",
              "    }\n",
              "\n",
              "    .dataframe thead th {\n",
              "        text-align: right;\n",
              "    }\n",
              "</style>\n",
              "<table border=\"1\" class=\"dataframe\">\n",
              "  <thead>\n",
              "    <tr style=\"text-align: right;\">\n",
              "      <th></th>\n",
              "      <th>Decade_</th>\n",
              "      <th>Gross_mean</th>\n",
              "      <th>Gross_std</th>\n",
              "      <th>Gross_count</th>\n",
              "      <th>sem</th>\n",
              "    </tr>\n",
              "  </thead>\n",
              "  <tbody>\n",
              "    <tr>\n",
              "      <th>0</th>\n",
              "      <td>1920.0</td>\n",
              "      <td>7.759318e+06</td>\n",
              "      <td>1.030574e+07</td>\n",
              "      <td>11</td>\n",
              "      <td>25.360117</td>\n",
              "    </tr>\n",
              "    <tr>\n",
              "      <th>1</th>\n",
              "      <td>1930.0</td>\n",
              "      <td>2.075354e+07</td>\n",
              "      <td>3.928357e+07</td>\n",
              "      <td>24</td>\n",
              "      <td>25.360117</td>\n",
              "    </tr>\n",
              "    <tr>\n",
              "      <th>2</th>\n",
              "      <td>1940.0</td>\n",
              "      <td>1.482379e+07</td>\n",
              "      <td>1.483636e+07</td>\n",
              "      <td>35</td>\n",
              "      <td>25.360117</td>\n",
              "    </tr>\n",
              "    <tr>\n",
              "      <th>3</th>\n",
              "      <td>1950.0</td>\n",
              "      <td>1.835157e+07</td>\n",
              "      <td>1.687840e+07</td>\n",
              "      <td>56</td>\n",
              "      <td>25.360117</td>\n",
              "    </tr>\n",
              "    <tr>\n",
              "      <th>4</th>\n",
              "      <td>1960.0</td>\n",
              "      <td>2.897049e+07</td>\n",
              "      <td>3.220511e+07</td>\n",
              "      <td>73</td>\n",
              "      <td>25.360117</td>\n",
              "    </tr>\n",
              "    <tr>\n",
              "      <th>5</th>\n",
              "      <td>1970.0</td>\n",
              "      <td>4.631470e+07</td>\n",
              "      <td>5.889238e+07</td>\n",
              "      <td>76</td>\n",
              "      <td>25.360117</td>\n",
              "    </tr>\n",
              "    <tr>\n",
              "      <th>6</th>\n",
              "      <td>1980.0</td>\n",
              "      <td>5.839289e+07</td>\n",
              "      <td>7.671452e+07</td>\n",
              "      <td>89</td>\n",
              "      <td>25.360117</td>\n",
              "    </tr>\n",
              "    <tr>\n",
              "      <th>7</th>\n",
              "      <td>1990.0</td>\n",
              "      <td>5.947912e+07</td>\n",
              "      <td>9.177125e+07</td>\n",
              "      <td>151</td>\n",
              "      <td>25.360117</td>\n",
              "    </tr>\n",
              "    <tr>\n",
              "      <th>8</th>\n",
              "      <td>2000.0</td>\n",
              "      <td>6.537623e+07</td>\n",
              "      <td>1.013301e+08</td>\n",
              "      <td>237</td>\n",
              "      <td>25.360117</td>\n",
              "    </tr>\n",
              "    <tr>\n",
              "      <th>9</th>\n",
              "      <td>2010.0</td>\n",
              "      <td>9.477360e+07</td>\n",
              "      <td>1.447438e+08</td>\n",
              "      <td>242</td>\n",
              "      <td>25.360117</td>\n",
              "    </tr>\n",
              "    <tr>\n",
              "      <th>10</th>\n",
              "      <td>2020.0</td>\n",
              "      <td>2.353089e+07</td>\n",
              "      <td>0.000000e+00</td>\n",
              "      <td>6</td>\n",
              "      <td>25.360117</td>\n",
              "    </tr>\n",
              "  </tbody>\n",
              "</table>\n",
              "</div>"
            ],
            "text/plain": [
              "    Decade_    Gross_mean     Gross_std  Gross_count        sem\n",
              "0    1920.0  7.759318e+06  1.030574e+07           11  25.360117\n",
              "1    1930.0  2.075354e+07  3.928357e+07           24  25.360117\n",
              "2    1940.0  1.482379e+07  1.483636e+07           35  25.360117\n",
              "3    1950.0  1.835157e+07  1.687840e+07           56  25.360117\n",
              "4    1960.0  2.897049e+07  3.220511e+07           73  25.360117\n",
              "5    1970.0  4.631470e+07  5.889238e+07           76  25.360117\n",
              "6    1980.0  5.839289e+07  7.671452e+07           89  25.360117\n",
              "7    1990.0  5.947912e+07  9.177125e+07          151  25.360117\n",
              "8    2000.0  6.537623e+07  1.013301e+08          237  25.360117\n",
              "9    2010.0  9.477360e+07  1.447438e+08          242  25.360117\n",
              "10   2020.0  2.353089e+07  0.000000e+00            6  25.360117"
            ]
          },
          "execution_count": 37,
          "metadata": {},
          "output_type": "execute_result"
        }
      ],
      "source": [
        "#adding SEM\n",
        "summary['sem'] = st.sem(summary['Gross_count'])\n",
        "summary"
      ]
    },
    {
      "cell_type": "markdown",
      "metadata": {
        "id": "rr_0EZkUioOJ"
      },
      "source": [
        "### Confidence Interval"
      ]
    },
    {
      "cell_type": "code",
      "execution_count": 38,
      "metadata": {
        "colab": {
          "base_uri": "https://localhost:8080/",
          "height": 394
        },
        "id": "_2H1C8Jiirag",
        "outputId": "7b818d9c-9b16-4d94-c558-6d48d6558962"
      },
      "outputs": [
        {
          "data": {
            "application/vnd.microsoft.datawrangler.viewer.v0+json": {
              "columns": [
                {
                  "name": "index",
                  "rawType": "int64",
                  "type": "integer"
                },
                {
                  "name": "Decade_",
                  "rawType": "float64",
                  "type": "float"
                },
                {
                  "name": "Gross_mean",
                  "rawType": "float64",
                  "type": "float"
                },
                {
                  "name": "Gross_std",
                  "rawType": "float64",
                  "type": "float"
                },
                {
                  "name": "Gross_count",
                  "rawType": "int64",
                  "type": "integer"
                },
                {
                  "name": "sem",
                  "rawType": "float64",
                  "type": "float"
                },
                {
                  "name": "t_score",
                  "rawType": "float64",
                  "type": "float"
                },
                {
                  "name": "Gross_moe",
                  "rawType": "float64",
                  "type": "float"
                },
                {
                  "name": "lower_ci",
                  "rawType": "float64",
                  "type": "float"
                },
                {
                  "name": "upper_ci",
                  "rawType": "float64",
                  "type": "float"
                }
              ],
              "conversionMethod": "pd.DataFrame",
              "ref": "9f9d86ce-b41b-4afe-9152-3d4ddece02d8",
              "rows": [
                [
                  "0",
                  "1920.0",
                  "7759318.09",
                  "10305740.79",
                  "11",
                  "25.36",
                  "2.23",
                  "6923490.87",
                  "835827.22",
                  "14682808.96"
                ],
                [
                  "1",
                  "1930.0",
                  "20753541.62",
                  "39283565.73",
                  "24",
                  "25.36",
                  "2.07",
                  "16587995.0",
                  "4165546.63",
                  "37341536.62"
                ],
                [
                  "2",
                  "1940.0",
                  "14823789.34",
                  "14836364.18",
                  "35",
                  "25.36",
                  "2.03",
                  "5096469.41",
                  "9727319.93",
                  "19920258.75"
                ],
                [
                  "3",
                  "1950.0",
                  "18351568.11",
                  "16878398.95",
                  "56",
                  "25.36",
                  "2.0",
                  "4520064.76",
                  "13831503.35",
                  "22871632.86"
                ],
                [
                  "4",
                  "1960.0",
                  "28970485.74",
                  "32205106.62",
                  "73",
                  "25.36",
                  "1.99",
                  "7514007.32",
                  "21456478.42",
                  "36484493.06"
                ],
                [
                  "5",
                  "1970.0",
                  "46314700.45",
                  "58892379.55",
                  "76",
                  "25.36",
                  "1.99",
                  "13457485.21",
                  "32857215.23",
                  "59772185.66"
                ],
                [
                  "6",
                  "1980.0",
                  "58392890.76",
                  "76714522.38",
                  "89",
                  "25.36",
                  "1.99",
                  "16160090.92",
                  "42232799.85",
                  "74552981.68"
                ],
                [
                  "7",
                  "1990.0",
                  "59479117.37",
                  "91771249.38",
                  "151",
                  "25.36",
                  "1.98",
                  "14756531.99",
                  "44722585.38",
                  "74235649.36"
                ],
                [
                  "8",
                  "2000.0",
                  "65376232.0",
                  "101330062.1",
                  "237",
                  "25.36",
                  "1.97",
                  "12967166.87",
                  "52409065.13",
                  "78343398.87"
                ],
                [
                  "9",
                  "2010.0",
                  "94773602.29",
                  "144743777.69",
                  "242",
                  "25.36",
                  "1.97",
                  "18328492.52",
                  "76445109.77",
                  "113102094.81"
                ],
                [
                  "10",
                  "2020.0",
                  "23530892.0",
                  "0.0",
                  "6",
                  "25.36",
                  "2.57",
                  "0.0",
                  "23530892.0",
                  "23530892.0"
                ]
              ],
              "shape": {
                "columns": 9,
                "rows": 11
              }
            },
            "text/html": [
              "<div>\n",
              "<style scoped>\n",
              "    .dataframe tbody tr th:only-of-type {\n",
              "        vertical-align: middle;\n",
              "    }\n",
              "\n",
              "    .dataframe tbody tr th {\n",
              "        vertical-align: top;\n",
              "    }\n",
              "\n",
              "    .dataframe thead th {\n",
              "        text-align: right;\n",
              "    }\n",
              "</style>\n",
              "<table border=\"1\" class=\"dataframe\">\n",
              "  <thead>\n",
              "    <tr style=\"text-align: right;\">\n",
              "      <th></th>\n",
              "      <th>Decade_</th>\n",
              "      <th>Gross_mean</th>\n",
              "      <th>Gross_std</th>\n",
              "      <th>Gross_count</th>\n",
              "      <th>sem</th>\n",
              "      <th>t_score</th>\n",
              "      <th>Gross_moe</th>\n",
              "      <th>lower_ci</th>\n",
              "      <th>upper_ci</th>\n",
              "    </tr>\n",
              "  </thead>\n",
              "  <tbody>\n",
              "    <tr>\n",
              "      <th>0</th>\n",
              "      <td>1920.0</td>\n",
              "      <td>7759318.09</td>\n",
              "      <td>1.030574e+07</td>\n",
              "      <td>11</td>\n",
              "      <td>25.36</td>\n",
              "      <td>2.23</td>\n",
              "      <td>6923490.87</td>\n",
              "      <td>835827.22</td>\n",
              "      <td>1.468281e+07</td>\n",
              "    </tr>\n",
              "    <tr>\n",
              "      <th>1</th>\n",
              "      <td>1930.0</td>\n",
              "      <td>20753541.62</td>\n",
              "      <td>3.928357e+07</td>\n",
              "      <td>24</td>\n",
              "      <td>25.36</td>\n",
              "      <td>2.07</td>\n",
              "      <td>16587995.00</td>\n",
              "      <td>4165546.63</td>\n",
              "      <td>3.734154e+07</td>\n",
              "    </tr>\n",
              "    <tr>\n",
              "      <th>2</th>\n",
              "      <td>1940.0</td>\n",
              "      <td>14823789.34</td>\n",
              "      <td>1.483636e+07</td>\n",
              "      <td>35</td>\n",
              "      <td>25.36</td>\n",
              "      <td>2.03</td>\n",
              "      <td>5096469.41</td>\n",
              "      <td>9727319.93</td>\n",
              "      <td>1.992026e+07</td>\n",
              "    </tr>\n",
              "    <tr>\n",
              "      <th>3</th>\n",
              "      <td>1950.0</td>\n",
              "      <td>18351568.11</td>\n",
              "      <td>1.687840e+07</td>\n",
              "      <td>56</td>\n",
              "      <td>25.36</td>\n",
              "      <td>2.00</td>\n",
              "      <td>4520064.76</td>\n",
              "      <td>13831503.35</td>\n",
              "      <td>2.287163e+07</td>\n",
              "    </tr>\n",
              "    <tr>\n",
              "      <th>4</th>\n",
              "      <td>1960.0</td>\n",
              "      <td>28970485.74</td>\n",
              "      <td>3.220511e+07</td>\n",
              "      <td>73</td>\n",
              "      <td>25.36</td>\n",
              "      <td>1.99</td>\n",
              "      <td>7514007.32</td>\n",
              "      <td>21456478.42</td>\n",
              "      <td>3.648449e+07</td>\n",
              "    </tr>\n",
              "    <tr>\n",
              "      <th>5</th>\n",
              "      <td>1970.0</td>\n",
              "      <td>46314700.45</td>\n",
              "      <td>5.889238e+07</td>\n",
              "      <td>76</td>\n",
              "      <td>25.36</td>\n",
              "      <td>1.99</td>\n",
              "      <td>13457485.21</td>\n",
              "      <td>32857215.23</td>\n",
              "      <td>5.977219e+07</td>\n",
              "    </tr>\n",
              "    <tr>\n",
              "      <th>6</th>\n",
              "      <td>1980.0</td>\n",
              "      <td>58392890.76</td>\n",
              "      <td>7.671452e+07</td>\n",
              "      <td>89</td>\n",
              "      <td>25.36</td>\n",
              "      <td>1.99</td>\n",
              "      <td>16160090.92</td>\n",
              "      <td>42232799.85</td>\n",
              "      <td>7.455298e+07</td>\n",
              "    </tr>\n",
              "    <tr>\n",
              "      <th>7</th>\n",
              "      <td>1990.0</td>\n",
              "      <td>59479117.37</td>\n",
              "      <td>9.177125e+07</td>\n",
              "      <td>151</td>\n",
              "      <td>25.36</td>\n",
              "      <td>1.98</td>\n",
              "      <td>14756531.99</td>\n",
              "      <td>44722585.38</td>\n",
              "      <td>7.423565e+07</td>\n",
              "    </tr>\n",
              "    <tr>\n",
              "      <th>8</th>\n",
              "      <td>2000.0</td>\n",
              "      <td>65376232.00</td>\n",
              "      <td>1.013301e+08</td>\n",
              "      <td>237</td>\n",
              "      <td>25.36</td>\n",
              "      <td>1.97</td>\n",
              "      <td>12967166.87</td>\n",
              "      <td>52409065.13</td>\n",
              "      <td>7.834340e+07</td>\n",
              "    </tr>\n",
              "    <tr>\n",
              "      <th>9</th>\n",
              "      <td>2010.0</td>\n",
              "      <td>94773602.29</td>\n",
              "      <td>1.447438e+08</td>\n",
              "      <td>242</td>\n",
              "      <td>25.36</td>\n",
              "      <td>1.97</td>\n",
              "      <td>18328492.52</td>\n",
              "      <td>76445109.77</td>\n",
              "      <td>1.131021e+08</td>\n",
              "    </tr>\n",
              "    <tr>\n",
              "      <th>10</th>\n",
              "      <td>2020.0</td>\n",
              "      <td>23530892.00</td>\n",
              "      <td>0.000000e+00</td>\n",
              "      <td>6</td>\n",
              "      <td>25.36</td>\n",
              "      <td>2.57</td>\n",
              "      <td>0.00</td>\n",
              "      <td>23530892.00</td>\n",
              "      <td>2.353089e+07</td>\n",
              "    </tr>\n",
              "  </tbody>\n",
              "</table>\n",
              "</div>"
            ],
            "text/plain": [
              "    Decade_   Gross_mean     Gross_std  Gross_count    sem  t_score  \\\n",
              "0    1920.0   7759318.09  1.030574e+07           11  25.36     2.23   \n",
              "1    1930.0  20753541.62  3.928357e+07           24  25.36     2.07   \n",
              "2    1940.0  14823789.34  1.483636e+07           35  25.36     2.03   \n",
              "3    1950.0  18351568.11  1.687840e+07           56  25.36     2.00   \n",
              "4    1960.0  28970485.74  3.220511e+07           73  25.36     1.99   \n",
              "5    1970.0  46314700.45  5.889238e+07           76  25.36     1.99   \n",
              "6    1980.0  58392890.76  7.671452e+07           89  25.36     1.99   \n",
              "7    1990.0  59479117.37  9.177125e+07          151  25.36     1.98   \n",
              "8    2000.0  65376232.00  1.013301e+08          237  25.36     1.97   \n",
              "9    2010.0  94773602.29  1.447438e+08          242  25.36     1.97   \n",
              "10   2020.0  23530892.00  0.000000e+00            6  25.36     2.57   \n",
              "\n",
              "      Gross_moe     lower_ci      upper_ci  \n",
              "0    6923490.87    835827.22  1.468281e+07  \n",
              "1   16587995.00   4165546.63  3.734154e+07  \n",
              "2    5096469.41   9727319.93  1.992026e+07  \n",
              "3    4520064.76  13831503.35  2.287163e+07  \n",
              "4    7514007.32  21456478.42  3.648449e+07  \n",
              "5   13457485.21  32857215.23  5.977219e+07  \n",
              "6   16160090.92  42232799.85  7.455298e+07  \n",
              "7   14756531.99  44722585.38  7.423565e+07  \n",
              "8   12967166.87  52409065.13  7.834340e+07  \n",
              "9   18328492.52  76445109.77  1.131021e+08  \n",
              "10         0.00  23530892.00  2.353089e+07  "
            ]
          },
          "execution_count": 38,
          "metadata": {},
          "output_type": "execute_result"
        }
      ],
      "source": [
        "import numpy as np\n",
        "import scipy.stats as stats\n",
        "\n",
        "# Calculate 95% confidence interval for Gross_mean\n",
        "\n",
        "# Compute t-score per group (95% CI)\n",
        "summary['t_score'] = summary['Gross_count'].apply(lambda n: stats.t.ppf(1 - 0.025, df=n-1))\n",
        "\n",
        "# Margin of Error (MoE) using t-score\n",
        "summary['Gross_moe'] = summary['t_score'] * (summary['Gross_std'] / np.sqrt(summary['Gross_count']))\n",
        "#Calculating Upper and Lower Bound\n",
        "summary['lower_ci'] = summary['Gross_mean'] - summary['Gross_moe']\n",
        "summary['upper_ci'] = summary['Gross_mean'] + summary['Gross_moe']\n",
        "\n",
        "summary.round(2)"
      ]
    },
    {
      "cell_type": "markdown",
      "metadata": {
        "id": "conclusionSection"
      },
      "source": [
        "# Conclusion and Key Findings\n",
        "\n",
        "## Summary of Analysis\n",
        "This exploratory data analysis of IMDb movie data has revealed several significant insights about the film industry over the past century. We analyzed various aspects including IMDb ratings, gross earnings, director influence, and temporal trends across decades.\n",
        "\n",
        "## Key Findings\n",
        "\n",
        "### 1. Box Office Trends Over Time\n",
        "- **Steady Growth**: Box office earnings have shown a consistent upward trend from the 1920s to the 2010s, with the 2010s showing the highest average gross earnings at approximately $94.8 million per film.\n",
        "- **Confidence Intervals**: Our statistical analysis with 95% confidence intervals confirms this growth trend is statistically significant, with non-overlapping CIs between early decades and recent ones.\n",
        "- **2020s Anomaly**: The apparent drop in the 2020s (average $23.5 million) is likely due to limited data points (only 6 films) and potentially the impact of the COVID-19 pandemic on theatrical releases.\n",
        "\n",
        "### 2. Director Influence\n",
        "- Our analysis of top directors by average IMDb rating highlights the significant impact of directorial vision on film quality.\n",
        "- Notable directors like Francis Ford Coppola, Christopher Nolan, and Frank Darabont consistently produce highly-rated films, suggesting that director reputation can be a reliable indicator of film quality.\n",
        "\n",
        "### 3. Correlation Analysis\n",
        "- **IMDb Rating and Meta Score**: There is a positive correlation between IMDb ratings (audience scores) and Meta scores (critic ratings), suggesting general alignment between critic and audience opinions.\n",
        "- **Runtime and Ratings**: Longer films tend to have slightly higher ratings, though the correlation is modest.\n",
        "- **Gross Earnings and Ratings**: The relationship between box office performance and ratings is positive but not strong, indicating that financial success and critical acclaim don't always go hand in hand.\n",
        "\n",
        "### 4. Data Quality Considerations\n",
        "- Missing data was present in approximately 25% of the records, primarily in the Meta_score and Gross columns.\n",
        "- Our imputation strategies (mean for Meta_score and median for Gross) were appropriate given the distributions of these variables, with Gross showing right skewness.\n",
        "\n",
        "## Implications\n",
        "\n",
        "### For Filmmakers and Studios\n",
        "- The increasing trend in box office earnings suggests growing market potential, though with higher variance in recent decades.\n",
        "- Director selection remains a crucial factor in achieving critical acclaim.\n",
        "- Film length should be considered strategically, as audiences tend to rate longer films slightly higher.\n",
        "\n",
        "### For Researchers and Analysts\n",
        "- The dataset provides valuable insights into film industry trends over a century.\n",
        "- The statistical methods employed (confidence intervals, correlation analysis) demonstrate approaches for analyzing entertainment industry data.\n",
        "- Future research could explore genre-specific trends, the impact of streaming platforms, and more detailed analysis of the 2020s data as it becomes available.\n",
        "\n",
        "## Limitations and Future Work\n",
        "\n",
        "### Limitations\n",
        "- The dataset is limited to 1000 films, which may not fully represent the entire film industry.\n",
        "- Inflation adjustment was not applied to gross earnings, which affects direct decade-to-decade comparisons.\n",
        "- Missing data required imputation, which may introduce some bias.\n",
        "\n",
        "### Future Research Directions\n",
        "- Incorporate inflation-adjusted earnings for more accurate historical comparisons.\n",
        "- Expand the analysis to include streaming platform performance metrics.\n",
        "- Conduct genre-specific analyses to identify trends within particular film categories.\n",
        "- Explore the relationship between marketing budgets and box office performance.\n",
        "- Investigate the impact of star power versus director influence on film success.\n",
        "\n",
        "This analysis provides a foundation for understanding the complex dynamics of the film industry and offers insights for both creative and business decision-making in cinema."
      ]
    },
    {
      "cell_type": "markdown",
      "metadata": {
        "id": "referencesSection"
      },
      "source": [
        "## References and Acknowledgments\n",
        "\n",
        "### Data Sources\n",
        "- IMDb (Internet Movie Database): The primary source of movie data\n",
        "- Dataset hosted by [Utkarsh820 on GitHub](https://github.com/utkarsh820/Datasets)\n",
        "\n",
        "### Tools and Libraries\n",
        "- Python: Primary programming language\n",
        "- Pandas: Data manipulation and analysis\n",
        "- NumPy: Numerical computing\n",
        "- Matplotlib & Seaborn: Data visualization\n",
        "- SciPy: Statistical analysis\n",
        "- Scikit-learn: For standardization and preprocessing\n",
        "\n",
        "### Further Reading\n",
        "- [The Economics of Hollywood: Money and Media](https://www.amazon.com/Economics-Hollywood-Media-Industries/dp/0415831997)\n",
        "- [Statistical Analysis of Film Success](https://journals.sagepub.com/doi/abs/10.1177/0276237419868344)\n",
        "- [IMDb Ratings & Box Office Success](https://www.tandfonline.com/doi/abs/10.1080/08997764.2020.1849702)\n",
        "\n",
        "### Project Repository\n",
        "The complete code and documentation for this project are available on GitHub: [IMDb Statistical Analysis](https://github.com/yourusername/imdb_analysis)"
      ]
    }
  ],
  "metadata": {
    "colab": {
      "provenance": []
    },
    "kernelspec": {
      "display_name": "workspace",
      "language": "python",
      "name": "python3"
    },
    "language_info": {
      "codemirror_mode": {
        "name": "ipython",
        "version": 3
      },
      "file_extension": ".py",
      "mimetype": "text/x-python",
      "name": "python",
      "nbconvert_exporter": "python",
      "pygments_lexer": "ipython3",
      "version": "3.12.9"
    }
  },
  "nbformat": 4,
  "nbformat_minor": 0
}
